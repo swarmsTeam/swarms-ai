{
  "cells": [
    {
      "cell_type": "markdown",
      "source": [
        "# Sentiment Analysis Modelling"
      ],
      "metadata": {
        "id": "g69nkIw-xpay"
      },
      "id": "g69nkIw-xpay"
    },
    {
      "cell_type": "markdown",
      "source": [
        "The goal of this notebook is to test the performace of [CAMeL-BERT](https://huggingface.co/CAMeL-Lab/bert-base-arabic-camelbert-da-sentiment) model. At first, we will do some iterations on the model pipeline and then we will evaluate it on the 3 datasets that we have collected before."
      ],
      "metadata": {
        "id": "DTIqdTnDy9xS"
      },
      "id": "DTIqdTnDy9xS"
    },
    {
      "cell_type": "code",
      "source": [
        "import pandas as pd\n",
        "import numpy as np\n",
        "\n",
        "import torch\n",
        "from transformers import pipeline\n",
        "from scipy.special import softmax"
      ],
      "metadata": {
        "id": "cOXgLh6oxyr6"
      },
      "id": "cOXgLh6oxyr6",
      "execution_count": 50,
      "outputs": []
    },
    {
      "cell_type": "code",
      "source": [
        "device = torch.device('cuda' if torch.cuda.is_available() else 'cpu')\n",
        "print(\"Available device:\", device)"
      ],
      "metadata": {
        "id": "5QWbBMPY7ugx",
        "outputId": "f5ee1d29-cfc7-4799-c3c5-fce70e521e6c",
        "colab": {
          "base_uri": "https://localhost:8080/"
        }
      },
      "id": "5QWbBMPY7ugx",
      "execution_count": 51,
      "outputs": [
        {
          "output_type": "stream",
          "name": "stdout",
          "text": [
            "Available device: cpu\n"
          ]
        }
      ]
    },
    {
      "cell_type": "markdown",
      "source": [
        "## Load and preprocess the data"
      ],
      "metadata": {
        "id": "0f1mIjmo1crb"
      },
      "id": "0f1mIjmo1crb"
    },
    {
      "cell_type": "code",
      "source": [
        "URL = \"https://github.com/swarmsTeam/swarms-ai/raw/main/sentiment-analysis/data/\"\n",
        "CompanyReviews = pd.read_csv(URL + \"CompanyReviews.csv\", index_col=0)\n",
        "RestaurantReviews = pd.read_csv(URL + \"RestaurantReviewsSample.csv\", index_col=0)\n",
        "appReviews = pd.read_csv(URL + \"appReviews.csv\", index_col=0)"
      ],
      "metadata": {
        "id": "wuAXCw811g6Q"
      },
      "id": "wuAXCw811g6Q",
      "execution_count": 52,
      "outputs": []
    },
    {
      "cell_type": "code",
      "source": [
        "appReviews = appReviews.dropna()\n",
        "appReviews.head()"
      ],
      "metadata": {
        "id": "Q_JulBJfA_jg",
        "outputId": "ce42e3d0-ed78-48c8-903a-89504672c22a",
        "colab": {
          "base_uri": "https://localhost:8080/",
          "height": 206
        }
      },
      "id": "Q_JulBJfA_jg",
      "execution_count": 53,
      "outputs": [
        {
          "output_type": "execute_result",
          "data": {
            "text/plain": [
              "                                  review_description  rating      company\n",
              "0                         سيئ جدا بعد الإصدار الجديد      -1  alahli_bank\n",
              "1                                  ابلكيشن زباله بجد      -1  alahli_bank\n",
              "2                                 سيئ التطبيق لايعمل      -1  alahli_bank\n",
              "3  للأسف التطبيق للأسوأ كان جدا رائع وسهل وبسيط ا...      -1  alahli_bank\n",
              "4                     التحديث بطيئ جدا جدا عند الفتح      -1  alahli_bank"
            ],
            "text/html": [
              "\n",
              "  <div id=\"df-54aa286d-ad00-4449-bd3c-7b9e37a1c09b\" class=\"colab-df-container\">\n",
              "    <div>\n",
              "<style scoped>\n",
              "    .dataframe tbody tr th:only-of-type {\n",
              "        vertical-align: middle;\n",
              "    }\n",
              "\n",
              "    .dataframe tbody tr th {\n",
              "        vertical-align: top;\n",
              "    }\n",
              "\n",
              "    .dataframe thead th {\n",
              "        text-align: right;\n",
              "    }\n",
              "</style>\n",
              "<table border=\"1\" class=\"dataframe\">\n",
              "  <thead>\n",
              "    <tr style=\"text-align: right;\">\n",
              "      <th></th>\n",
              "      <th>review_description</th>\n",
              "      <th>rating</th>\n",
              "      <th>company</th>\n",
              "    </tr>\n",
              "  </thead>\n",
              "  <tbody>\n",
              "    <tr>\n",
              "      <th>0</th>\n",
              "      <td>سيئ جدا بعد الإصدار الجديد</td>\n",
              "      <td>-1</td>\n",
              "      <td>alahli_bank</td>\n",
              "    </tr>\n",
              "    <tr>\n",
              "      <th>1</th>\n",
              "      <td>ابلكيشن زباله بجد</td>\n",
              "      <td>-1</td>\n",
              "      <td>alahli_bank</td>\n",
              "    </tr>\n",
              "    <tr>\n",
              "      <th>2</th>\n",
              "      <td>سيئ التطبيق لايعمل</td>\n",
              "      <td>-1</td>\n",
              "      <td>alahli_bank</td>\n",
              "    </tr>\n",
              "    <tr>\n",
              "      <th>3</th>\n",
              "      <td>للأسف التطبيق للأسوأ كان جدا رائع وسهل وبسيط ا...</td>\n",
              "      <td>-1</td>\n",
              "      <td>alahli_bank</td>\n",
              "    </tr>\n",
              "    <tr>\n",
              "      <th>4</th>\n",
              "      <td>التحديث بطيئ جدا جدا عند الفتح</td>\n",
              "      <td>-1</td>\n",
              "      <td>alahli_bank</td>\n",
              "    </tr>\n",
              "  </tbody>\n",
              "</table>\n",
              "</div>\n",
              "    <div class=\"colab-df-buttons\">\n",
              "\n",
              "  <div class=\"colab-df-container\">\n",
              "    <button class=\"colab-df-convert\" onclick=\"convertToInteractive('df-54aa286d-ad00-4449-bd3c-7b9e37a1c09b')\"\n",
              "            title=\"Convert this dataframe to an interactive table.\"\n",
              "            style=\"display:none;\">\n",
              "\n",
              "  <svg xmlns=\"http://www.w3.org/2000/svg\" height=\"24px\" viewBox=\"0 -960 960 960\">\n",
              "    <path d=\"M120-120v-720h720v720H120Zm60-500h600v-160H180v160Zm220 220h160v-160H400v160Zm0 220h160v-160H400v160ZM180-400h160v-160H180v160Zm440 0h160v-160H620v160ZM180-180h160v-160H180v160Zm440 0h160v-160H620v160Z\"/>\n",
              "  </svg>\n",
              "    </button>\n",
              "\n",
              "  <style>\n",
              "    .colab-df-container {\n",
              "      display:flex;\n",
              "      gap: 12px;\n",
              "    }\n",
              "\n",
              "    .colab-df-convert {\n",
              "      background-color: #E8F0FE;\n",
              "      border: none;\n",
              "      border-radius: 50%;\n",
              "      cursor: pointer;\n",
              "      display: none;\n",
              "      fill: #1967D2;\n",
              "      height: 32px;\n",
              "      padding: 0 0 0 0;\n",
              "      width: 32px;\n",
              "    }\n",
              "\n",
              "    .colab-df-convert:hover {\n",
              "      background-color: #E2EBFA;\n",
              "      box-shadow: 0px 1px 2px rgba(60, 64, 67, 0.3), 0px 1px 3px 1px rgba(60, 64, 67, 0.15);\n",
              "      fill: #174EA6;\n",
              "    }\n",
              "\n",
              "    .colab-df-buttons div {\n",
              "      margin-bottom: 4px;\n",
              "    }\n",
              "\n",
              "    [theme=dark] .colab-df-convert {\n",
              "      background-color: #3B4455;\n",
              "      fill: #D2E3FC;\n",
              "    }\n",
              "\n",
              "    [theme=dark] .colab-df-convert:hover {\n",
              "      background-color: #434B5C;\n",
              "      box-shadow: 0px 1px 3px 1px rgba(0, 0, 0, 0.15);\n",
              "      filter: drop-shadow(0px 1px 2px rgba(0, 0, 0, 0.3));\n",
              "      fill: #FFFFFF;\n",
              "    }\n",
              "  </style>\n",
              "\n",
              "    <script>\n",
              "      const buttonEl =\n",
              "        document.querySelector('#df-54aa286d-ad00-4449-bd3c-7b9e37a1c09b button.colab-df-convert');\n",
              "      buttonEl.style.display =\n",
              "        google.colab.kernel.accessAllowed ? 'block' : 'none';\n",
              "\n",
              "      async function convertToInteractive(key) {\n",
              "        const element = document.querySelector('#df-54aa286d-ad00-4449-bd3c-7b9e37a1c09b');\n",
              "        const dataTable =\n",
              "          await google.colab.kernel.invokeFunction('convertToInteractive',\n",
              "                                                    [key], {});\n",
              "        if (!dataTable) return;\n",
              "\n",
              "        const docLinkHtml = 'Like what you see? Visit the ' +\n",
              "          '<a target=\"_blank\" href=https://colab.research.google.com/notebooks/data_table.ipynb>data table notebook</a>'\n",
              "          + ' to learn more about interactive tables.';\n",
              "        element.innerHTML = '';\n",
              "        dataTable['output_type'] = 'display_data';\n",
              "        await google.colab.output.renderOutput(dataTable, element);\n",
              "        const docLink = document.createElement('div');\n",
              "        docLink.innerHTML = docLinkHtml;\n",
              "        element.appendChild(docLink);\n",
              "      }\n",
              "    </script>\n",
              "  </div>\n",
              "\n",
              "\n",
              "<div id=\"df-c79ca452-5185-4045-838b-79e4d58c745c\">\n",
              "  <button class=\"colab-df-quickchart\" onclick=\"quickchart('df-c79ca452-5185-4045-838b-79e4d58c745c')\"\n",
              "            title=\"Suggest charts\"\n",
              "            style=\"display:none;\">\n",
              "\n",
              "<svg xmlns=\"http://www.w3.org/2000/svg\" height=\"24px\"viewBox=\"0 0 24 24\"\n",
              "     width=\"24px\">\n",
              "    <g>\n",
              "        <path d=\"M19 3H5c-1.1 0-2 .9-2 2v14c0 1.1.9 2 2 2h14c1.1 0 2-.9 2-2V5c0-1.1-.9-2-2-2zM9 17H7v-7h2v7zm4 0h-2V7h2v10zm4 0h-2v-4h2v4z\"/>\n",
              "    </g>\n",
              "</svg>\n",
              "  </button>\n",
              "\n",
              "<style>\n",
              "  .colab-df-quickchart {\n",
              "      --bg-color: #E8F0FE;\n",
              "      --fill-color: #1967D2;\n",
              "      --hover-bg-color: #E2EBFA;\n",
              "      --hover-fill-color: #174EA6;\n",
              "      --disabled-fill-color: #AAA;\n",
              "      --disabled-bg-color: #DDD;\n",
              "  }\n",
              "\n",
              "  [theme=dark] .colab-df-quickchart {\n",
              "      --bg-color: #3B4455;\n",
              "      --fill-color: #D2E3FC;\n",
              "      --hover-bg-color: #434B5C;\n",
              "      --hover-fill-color: #FFFFFF;\n",
              "      --disabled-bg-color: #3B4455;\n",
              "      --disabled-fill-color: #666;\n",
              "  }\n",
              "\n",
              "  .colab-df-quickchart {\n",
              "    background-color: var(--bg-color);\n",
              "    border: none;\n",
              "    border-radius: 50%;\n",
              "    cursor: pointer;\n",
              "    display: none;\n",
              "    fill: var(--fill-color);\n",
              "    height: 32px;\n",
              "    padding: 0;\n",
              "    width: 32px;\n",
              "  }\n",
              "\n",
              "  .colab-df-quickchart:hover {\n",
              "    background-color: var(--hover-bg-color);\n",
              "    box-shadow: 0 1px 2px rgba(60, 64, 67, 0.3), 0 1px 3px 1px rgba(60, 64, 67, 0.15);\n",
              "    fill: var(--button-hover-fill-color);\n",
              "  }\n",
              "\n",
              "  .colab-df-quickchart-complete:disabled,\n",
              "  .colab-df-quickchart-complete:disabled:hover {\n",
              "    background-color: var(--disabled-bg-color);\n",
              "    fill: var(--disabled-fill-color);\n",
              "    box-shadow: none;\n",
              "  }\n",
              "\n",
              "  .colab-df-spinner {\n",
              "    border: 2px solid var(--fill-color);\n",
              "    border-color: transparent;\n",
              "    border-bottom-color: var(--fill-color);\n",
              "    animation:\n",
              "      spin 1s steps(1) infinite;\n",
              "  }\n",
              "\n",
              "  @keyframes spin {\n",
              "    0% {\n",
              "      border-color: transparent;\n",
              "      border-bottom-color: var(--fill-color);\n",
              "      border-left-color: var(--fill-color);\n",
              "    }\n",
              "    20% {\n",
              "      border-color: transparent;\n",
              "      border-left-color: var(--fill-color);\n",
              "      border-top-color: var(--fill-color);\n",
              "    }\n",
              "    30% {\n",
              "      border-color: transparent;\n",
              "      border-left-color: var(--fill-color);\n",
              "      border-top-color: var(--fill-color);\n",
              "      border-right-color: var(--fill-color);\n",
              "    }\n",
              "    40% {\n",
              "      border-color: transparent;\n",
              "      border-right-color: var(--fill-color);\n",
              "      border-top-color: var(--fill-color);\n",
              "    }\n",
              "    60% {\n",
              "      border-color: transparent;\n",
              "      border-right-color: var(--fill-color);\n",
              "    }\n",
              "    80% {\n",
              "      border-color: transparent;\n",
              "      border-right-color: var(--fill-color);\n",
              "      border-bottom-color: var(--fill-color);\n",
              "    }\n",
              "    90% {\n",
              "      border-color: transparent;\n",
              "      border-bottom-color: var(--fill-color);\n",
              "    }\n",
              "  }\n",
              "</style>\n",
              "\n",
              "  <script>\n",
              "    async function quickchart(key) {\n",
              "      const quickchartButtonEl =\n",
              "        document.querySelector('#' + key + ' button');\n",
              "      quickchartButtonEl.disabled = true;  // To prevent multiple clicks.\n",
              "      quickchartButtonEl.classList.add('colab-df-spinner');\n",
              "      try {\n",
              "        const charts = await google.colab.kernel.invokeFunction(\n",
              "            'suggestCharts', [key], {});\n",
              "      } catch (error) {\n",
              "        console.error('Error during call to suggestCharts:', error);\n",
              "      }\n",
              "      quickchartButtonEl.classList.remove('colab-df-spinner');\n",
              "      quickchartButtonEl.classList.add('colab-df-quickchart-complete');\n",
              "    }\n",
              "    (() => {\n",
              "      let quickchartButtonEl =\n",
              "        document.querySelector('#df-c79ca452-5185-4045-838b-79e4d58c745c button');\n",
              "      quickchartButtonEl.style.display =\n",
              "        google.colab.kernel.accessAllowed ? 'block' : 'none';\n",
              "    })();\n",
              "  </script>\n",
              "</div>\n",
              "\n",
              "    </div>\n",
              "  </div>\n"
            ],
            "application/vnd.google.colaboratory.intrinsic+json": {
              "type": "dataframe",
              "variable_name": "appReviews",
              "summary": "{\n  \"name\": \"appReviews\",\n  \"rows\": 67125,\n  \"fields\": [\n    {\n      \"column\": \"review_description\",\n      \"properties\": {\n        \"dtype\": \"string\",\n        \"num_unique_values\": 66987,\n        \"samples\": [\n          \"\\u0643\\u062a\\u0627\\u0628 \\u062c\\u064a\\u062f .. \\u0645\\u062e\\u062a\\u0635\\u0631 \\u0648\\u0645\\u0641\\u064a\\u062f \\u0648\\u064a\\u0642\\u062f\\u0645 \\u0648\\u062c\\u0628\\u0627\\u062a \\u062e\\u0641\\u064a\\u0641\\u0629 \\u0644\\u0645\\u0647\\u0627\\u0631\\u0629 \\u0627\\u0644\\u0642\\u0631\\u0627\\u0621\\u0629. \\u0645\\u0641\\u064a\\u062f \\u0644\\u0644\\u062c\\u0645\\u064a\\u0639. \\u062a\\u0645\\u0646\\u064a\\u0627\\u062a\\u064a \\u0644\\u0643\\u0645 \\u0628\\u0642\\u0631\\u0627\\u0621\\u0629 \\u0645\\u0645\\u062a\\u0639\\u0629\",\n          \"\\u062e\\u062d\\u0646\",\n          \"\\u0627\\u0644\\u0633\\u0644\\u0627\\u0645 \\u0639\\u0644\\u064a\\u0643\\u0645 \\u0648\\u0631\\u062d\\u0645\\u0647\"\n        ],\n        \"semantic_type\": \"\",\n        \"description\": \"\"\n      }\n    },\n    {\n      \"column\": \"rating\",\n      \"properties\": {\n        \"dtype\": \"number\",\n        \"std\": 0,\n        \"min\": -1,\n        \"max\": 1,\n        \"num_unique_values\": 3,\n        \"samples\": [\n          -1,\n          0,\n          1\n        ],\n        \"semantic_type\": \"\",\n        \"description\": \"\"\n      }\n    },\n    {\n      \"column\": \"company\",\n      \"properties\": {\n        \"dtype\": \"category\",\n        \"num_unique_values\": 8,\n        \"samples\": [\n          \"talbat\",\n          \"telecom_egypt\",\n          \"alahli_bank\"\n        ],\n        \"semantic_type\": \"\",\n        \"description\": \"\"\n      }\n    }\n  ]\n}"
            }
          },
          "metadata": {},
          "execution_count": 53
        }
      ]
    },
    {
      "cell_type": "markdown",
      "source": [
        "## Model pipeline"
      ],
      "metadata": {
        "id": "saFdP6g4_JZY"
      },
      "id": "saFdP6g4_JZY"
    },
    {
      "cell_type": "code",
      "source": [
        "MODEL = 'CAMeL-Lab/bert-base-arabic-camelbert-da-sentiment'\n",
        "pipe = pipeline(\"text-classification\", model=MODEL)"
      ],
      "metadata": {
        "id": "UvSAiH7l36dA",
        "outputId": "c0d6525e-c09a-4efb-e60d-33579dc15746",
        "colab": {
          "base_uri": "https://localhost:8080/"
        }
      },
      "id": "UvSAiH7l36dA",
      "execution_count": 54,
      "outputs": [
        {
          "output_type": "stream",
          "name": "stderr",
          "text": [
            "/usr/local/lib/python3.10/dist-packages/transformers/tokenization_utils_base.py:1601: FutureWarning: `clean_up_tokenization_spaces` was not set. It will be set to `True` by default. This behavior will be depracted in transformers v4.45, and will be then set to `False` by default. For more details check this issue: https://github.com/huggingface/transformers/issues/31884\n",
            "  warnings.warn(\n"
          ]
        }
      ]
    },
    {
      "cell_type": "markdown",
      "source": [
        "### runing the model in a small examples"
      ],
      "metadata": {
        "id": "DPnsf9AFFeF4"
      },
      "id": "DPnsf9AFFeF4"
    },
    {
      "cell_type": "code",
      "source": [
        "examples = [\"ده ايفنت مش نافع\", \"كان حاجة اخر ملل\", \"معقول\", \"يعني حاسس انه في العموم مقبول وعادي\", \"روعة بجد\"]\n",
        "pipe(examples)"
      ],
      "metadata": {
        "id": "c00O7KhW47Gw",
        "outputId": "da59c34a-6a0b-4c44-b201-7e92e4482e77",
        "colab": {
          "base_uri": "https://localhost:8080/"
        }
      },
      "id": "c00O7KhW47Gw",
      "execution_count": 55,
      "outputs": [
        {
          "output_type": "execute_result",
          "data": {
            "text/plain": [
              "[{'label': 'negative', 'score': 0.7197925448417664},\n",
              " {'label': 'negative', 'score': 0.9548670053482056},\n",
              " {'label': 'neutral', 'score': 0.4663392901420593},\n",
              " {'label': 'negative', 'score': 0.6648894548416138},\n",
              " {'label': 'positive', 'score': 0.9908993244171143}]"
            ]
          },
          "metadata": {},
          "execution_count": 55
        }
      ]
    },
    {
      "cell_type": "code",
      "source": [
        "output = pipe(examples)"
      ],
      "metadata": {
        "id": "FweUBQyD_gdQ"
      },
      "id": "FweUBQyD_gdQ",
      "execution_count": 56,
      "outputs": []
    },
    {
      "cell_type": "code",
      "source": [
        "for example in examples:\n",
        "  output = pipe(example)[0]\n",
        "  print(output['label'])"
      ],
      "metadata": {
        "id": "te3nAt_M_kN4",
        "outputId": "5cb77202-4394-402f-f5ea-d35ae6082648",
        "colab": {
          "base_uri": "https://localhost:8080/"
        }
      },
      "id": "te3nAt_M_kN4",
      "execution_count": 57,
      "outputs": [
        {
          "output_type": "stream",
          "name": "stdout",
          "text": [
            "negative\n",
            "negative\n",
            "neutral\n",
            "negative\n",
            "positive\n"
          ]
        }
      ]
    },
    {
      "cell_type": "code",
      "source": [
        "df = appReviews.iloc[:20, :]\n",
        "df['label'] = None\n",
        "\n",
        "for index, review in df.iterrows():\n",
        "    output = pipe(review['review_description'])[0]\n",
        "    if output['label'] == 'positive':\n",
        "      label = 1\n",
        "    elif output['label'] == 'negative':\n",
        "      label = -1\n",
        "    else: label = 0\n",
        "    df.at[index, 'label'] = label\n",
        "\n",
        "df.head()"
      ],
      "metadata": {
        "id": "_U3s2VGwCFdt",
        "outputId": "b0c4038d-3bc9-4650-954f-34c78665dd8f",
        "colab": {
          "base_uri": "https://localhost:8080/",
          "height": 310
        }
      },
      "id": "_U3s2VGwCFdt",
      "execution_count": 58,
      "outputs": [
        {
          "output_type": "stream",
          "name": "stderr",
          "text": [
            "<ipython-input-58-de5669c84036>:2: SettingWithCopyWarning: \n",
            "A value is trying to be set on a copy of a slice from a DataFrame.\n",
            "Try using .loc[row_indexer,col_indexer] = value instead\n",
            "\n",
            "See the caveats in the documentation: https://pandas.pydata.org/pandas-docs/stable/user_guide/indexing.html#returning-a-view-versus-a-copy\n",
            "  df['label'] = None\n"
          ]
        },
        {
          "output_type": "execute_result",
          "data": {
            "text/plain": [
              "                                  review_description  rating      company  \\\n",
              "0                         سيئ جدا بعد الإصدار الجديد      -1  alahli_bank   \n",
              "1                                  ابلكيشن زباله بجد      -1  alahli_bank   \n",
              "2                                 سيئ التطبيق لايعمل      -1  alahli_bank   \n",
              "3  للأسف التطبيق للأسوأ كان جدا رائع وسهل وبسيط ا...      -1  alahli_bank   \n",
              "4                     التحديث بطيئ جدا جدا عند الفتح      -1  alahli_bank   \n",
              "\n",
              "  label  \n",
              "0    -1  \n",
              "1    -1  \n",
              "2    -1  \n",
              "3    -1  \n",
              "4    -1  "
            ],
            "text/html": [
              "\n",
              "  <div id=\"df-ad0a2db8-2018-457f-9e19-0be310c46ef1\" class=\"colab-df-container\">\n",
              "    <div>\n",
              "<style scoped>\n",
              "    .dataframe tbody tr th:only-of-type {\n",
              "        vertical-align: middle;\n",
              "    }\n",
              "\n",
              "    .dataframe tbody tr th {\n",
              "        vertical-align: top;\n",
              "    }\n",
              "\n",
              "    .dataframe thead th {\n",
              "        text-align: right;\n",
              "    }\n",
              "</style>\n",
              "<table border=\"1\" class=\"dataframe\">\n",
              "  <thead>\n",
              "    <tr style=\"text-align: right;\">\n",
              "      <th></th>\n",
              "      <th>review_description</th>\n",
              "      <th>rating</th>\n",
              "      <th>company</th>\n",
              "      <th>label</th>\n",
              "    </tr>\n",
              "  </thead>\n",
              "  <tbody>\n",
              "    <tr>\n",
              "      <th>0</th>\n",
              "      <td>سيئ جدا بعد الإصدار الجديد</td>\n",
              "      <td>-1</td>\n",
              "      <td>alahli_bank</td>\n",
              "      <td>-1</td>\n",
              "    </tr>\n",
              "    <tr>\n",
              "      <th>1</th>\n",
              "      <td>ابلكيشن زباله بجد</td>\n",
              "      <td>-1</td>\n",
              "      <td>alahli_bank</td>\n",
              "      <td>-1</td>\n",
              "    </tr>\n",
              "    <tr>\n",
              "      <th>2</th>\n",
              "      <td>سيئ التطبيق لايعمل</td>\n",
              "      <td>-1</td>\n",
              "      <td>alahli_bank</td>\n",
              "      <td>-1</td>\n",
              "    </tr>\n",
              "    <tr>\n",
              "      <th>3</th>\n",
              "      <td>للأسف التطبيق للأسوأ كان جدا رائع وسهل وبسيط ا...</td>\n",
              "      <td>-1</td>\n",
              "      <td>alahli_bank</td>\n",
              "      <td>-1</td>\n",
              "    </tr>\n",
              "    <tr>\n",
              "      <th>4</th>\n",
              "      <td>التحديث بطيئ جدا جدا عند الفتح</td>\n",
              "      <td>-1</td>\n",
              "      <td>alahli_bank</td>\n",
              "      <td>-1</td>\n",
              "    </tr>\n",
              "  </tbody>\n",
              "</table>\n",
              "</div>\n",
              "    <div class=\"colab-df-buttons\">\n",
              "\n",
              "  <div class=\"colab-df-container\">\n",
              "    <button class=\"colab-df-convert\" onclick=\"convertToInteractive('df-ad0a2db8-2018-457f-9e19-0be310c46ef1')\"\n",
              "            title=\"Convert this dataframe to an interactive table.\"\n",
              "            style=\"display:none;\">\n",
              "\n",
              "  <svg xmlns=\"http://www.w3.org/2000/svg\" height=\"24px\" viewBox=\"0 -960 960 960\">\n",
              "    <path d=\"M120-120v-720h720v720H120Zm60-500h600v-160H180v160Zm220 220h160v-160H400v160Zm0 220h160v-160H400v160ZM180-400h160v-160H180v160Zm440 0h160v-160H620v160ZM180-180h160v-160H180v160Zm440 0h160v-160H620v160Z\"/>\n",
              "  </svg>\n",
              "    </button>\n",
              "\n",
              "  <style>\n",
              "    .colab-df-container {\n",
              "      display:flex;\n",
              "      gap: 12px;\n",
              "    }\n",
              "\n",
              "    .colab-df-convert {\n",
              "      background-color: #E8F0FE;\n",
              "      border: none;\n",
              "      border-radius: 50%;\n",
              "      cursor: pointer;\n",
              "      display: none;\n",
              "      fill: #1967D2;\n",
              "      height: 32px;\n",
              "      padding: 0 0 0 0;\n",
              "      width: 32px;\n",
              "    }\n",
              "\n",
              "    .colab-df-convert:hover {\n",
              "      background-color: #E2EBFA;\n",
              "      box-shadow: 0px 1px 2px rgba(60, 64, 67, 0.3), 0px 1px 3px 1px rgba(60, 64, 67, 0.15);\n",
              "      fill: #174EA6;\n",
              "    }\n",
              "\n",
              "    .colab-df-buttons div {\n",
              "      margin-bottom: 4px;\n",
              "    }\n",
              "\n",
              "    [theme=dark] .colab-df-convert {\n",
              "      background-color: #3B4455;\n",
              "      fill: #D2E3FC;\n",
              "    }\n",
              "\n",
              "    [theme=dark] .colab-df-convert:hover {\n",
              "      background-color: #434B5C;\n",
              "      box-shadow: 0px 1px 3px 1px rgba(0, 0, 0, 0.15);\n",
              "      filter: drop-shadow(0px 1px 2px rgba(0, 0, 0, 0.3));\n",
              "      fill: #FFFFFF;\n",
              "    }\n",
              "  </style>\n",
              "\n",
              "    <script>\n",
              "      const buttonEl =\n",
              "        document.querySelector('#df-ad0a2db8-2018-457f-9e19-0be310c46ef1 button.colab-df-convert');\n",
              "      buttonEl.style.display =\n",
              "        google.colab.kernel.accessAllowed ? 'block' : 'none';\n",
              "\n",
              "      async function convertToInteractive(key) {\n",
              "        const element = document.querySelector('#df-ad0a2db8-2018-457f-9e19-0be310c46ef1');\n",
              "        const dataTable =\n",
              "          await google.colab.kernel.invokeFunction('convertToInteractive',\n",
              "                                                    [key], {});\n",
              "        if (!dataTable) return;\n",
              "\n",
              "        const docLinkHtml = 'Like what you see? Visit the ' +\n",
              "          '<a target=\"_blank\" href=https://colab.research.google.com/notebooks/data_table.ipynb>data table notebook</a>'\n",
              "          + ' to learn more about interactive tables.';\n",
              "        element.innerHTML = '';\n",
              "        dataTable['output_type'] = 'display_data';\n",
              "        await google.colab.output.renderOutput(dataTable, element);\n",
              "        const docLink = document.createElement('div');\n",
              "        docLink.innerHTML = docLinkHtml;\n",
              "        element.appendChild(docLink);\n",
              "      }\n",
              "    </script>\n",
              "  </div>\n",
              "\n",
              "\n",
              "<div id=\"df-6bf3ccaa-86aa-4587-80e6-3eed2b6fc82f\">\n",
              "  <button class=\"colab-df-quickchart\" onclick=\"quickchart('df-6bf3ccaa-86aa-4587-80e6-3eed2b6fc82f')\"\n",
              "            title=\"Suggest charts\"\n",
              "            style=\"display:none;\">\n",
              "\n",
              "<svg xmlns=\"http://www.w3.org/2000/svg\" height=\"24px\"viewBox=\"0 0 24 24\"\n",
              "     width=\"24px\">\n",
              "    <g>\n",
              "        <path d=\"M19 3H5c-1.1 0-2 .9-2 2v14c0 1.1.9 2 2 2h14c1.1 0 2-.9 2-2V5c0-1.1-.9-2-2-2zM9 17H7v-7h2v7zm4 0h-2V7h2v10zm4 0h-2v-4h2v4z\"/>\n",
              "    </g>\n",
              "</svg>\n",
              "  </button>\n",
              "\n",
              "<style>\n",
              "  .colab-df-quickchart {\n",
              "      --bg-color: #E8F0FE;\n",
              "      --fill-color: #1967D2;\n",
              "      --hover-bg-color: #E2EBFA;\n",
              "      --hover-fill-color: #174EA6;\n",
              "      --disabled-fill-color: #AAA;\n",
              "      --disabled-bg-color: #DDD;\n",
              "  }\n",
              "\n",
              "  [theme=dark] .colab-df-quickchart {\n",
              "      --bg-color: #3B4455;\n",
              "      --fill-color: #D2E3FC;\n",
              "      --hover-bg-color: #434B5C;\n",
              "      --hover-fill-color: #FFFFFF;\n",
              "      --disabled-bg-color: #3B4455;\n",
              "      --disabled-fill-color: #666;\n",
              "  }\n",
              "\n",
              "  .colab-df-quickchart {\n",
              "    background-color: var(--bg-color);\n",
              "    border: none;\n",
              "    border-radius: 50%;\n",
              "    cursor: pointer;\n",
              "    display: none;\n",
              "    fill: var(--fill-color);\n",
              "    height: 32px;\n",
              "    padding: 0;\n",
              "    width: 32px;\n",
              "  }\n",
              "\n",
              "  .colab-df-quickchart:hover {\n",
              "    background-color: var(--hover-bg-color);\n",
              "    box-shadow: 0 1px 2px rgba(60, 64, 67, 0.3), 0 1px 3px 1px rgba(60, 64, 67, 0.15);\n",
              "    fill: var(--button-hover-fill-color);\n",
              "  }\n",
              "\n",
              "  .colab-df-quickchart-complete:disabled,\n",
              "  .colab-df-quickchart-complete:disabled:hover {\n",
              "    background-color: var(--disabled-bg-color);\n",
              "    fill: var(--disabled-fill-color);\n",
              "    box-shadow: none;\n",
              "  }\n",
              "\n",
              "  .colab-df-spinner {\n",
              "    border: 2px solid var(--fill-color);\n",
              "    border-color: transparent;\n",
              "    border-bottom-color: var(--fill-color);\n",
              "    animation:\n",
              "      spin 1s steps(1) infinite;\n",
              "  }\n",
              "\n",
              "  @keyframes spin {\n",
              "    0% {\n",
              "      border-color: transparent;\n",
              "      border-bottom-color: var(--fill-color);\n",
              "      border-left-color: var(--fill-color);\n",
              "    }\n",
              "    20% {\n",
              "      border-color: transparent;\n",
              "      border-left-color: var(--fill-color);\n",
              "      border-top-color: var(--fill-color);\n",
              "    }\n",
              "    30% {\n",
              "      border-color: transparent;\n",
              "      border-left-color: var(--fill-color);\n",
              "      border-top-color: var(--fill-color);\n",
              "      border-right-color: var(--fill-color);\n",
              "    }\n",
              "    40% {\n",
              "      border-color: transparent;\n",
              "      border-right-color: var(--fill-color);\n",
              "      border-top-color: var(--fill-color);\n",
              "    }\n",
              "    60% {\n",
              "      border-color: transparent;\n",
              "      border-right-color: var(--fill-color);\n",
              "    }\n",
              "    80% {\n",
              "      border-color: transparent;\n",
              "      border-right-color: var(--fill-color);\n",
              "      border-bottom-color: var(--fill-color);\n",
              "    }\n",
              "    90% {\n",
              "      border-color: transparent;\n",
              "      border-bottom-color: var(--fill-color);\n",
              "    }\n",
              "  }\n",
              "</style>\n",
              "\n",
              "  <script>\n",
              "    async function quickchart(key) {\n",
              "      const quickchartButtonEl =\n",
              "        document.querySelector('#' + key + ' button');\n",
              "      quickchartButtonEl.disabled = true;  // To prevent multiple clicks.\n",
              "      quickchartButtonEl.classList.add('colab-df-spinner');\n",
              "      try {\n",
              "        const charts = await google.colab.kernel.invokeFunction(\n",
              "            'suggestCharts', [key], {});\n",
              "      } catch (error) {\n",
              "        console.error('Error during call to suggestCharts:', error);\n",
              "      }\n",
              "      quickchartButtonEl.classList.remove('colab-df-spinner');\n",
              "      quickchartButtonEl.classList.add('colab-df-quickchart-complete');\n",
              "    }\n",
              "    (() => {\n",
              "      let quickchartButtonEl =\n",
              "        document.querySelector('#df-6bf3ccaa-86aa-4587-80e6-3eed2b6fc82f button');\n",
              "      quickchartButtonEl.style.display =\n",
              "        google.colab.kernel.accessAllowed ? 'block' : 'none';\n",
              "    })();\n",
              "  </script>\n",
              "</div>\n",
              "\n",
              "    </div>\n",
              "  </div>\n"
            ],
            "application/vnd.google.colaboratory.intrinsic+json": {
              "type": "dataframe",
              "variable_name": "df",
              "summary": "{\n  \"name\": \"df\",\n  \"rows\": 20,\n  \"fields\": [\n    {\n      \"column\": \"review_description\",\n      \"properties\": {\n        \"dtype\": \"string\",\n        \"num_unique_values\": 20,\n        \"samples\": [\n          \"\\u0633\\u064a\\u0626 \\u062c\\u062f\\u0627 \\u0628\\u0639\\u062f \\u0627\\u0644\\u0625\\u0635\\u062f\\u0627\\u0631 \\u0627\\u0644\\u062c\\u062f\\u064a\\u062f\",\n          \"\\u062e\\u062f\\u0645\\u0629 \\u062c\\u062f\\u0627 \\u0633\\u064a\\u0626\\u0629 \\u0648\\u062a\\u062d\\u062f\\u064a\\u062b \\u0644\\u0627\\u0641\\u0627\\u0626\\u062f\\u0629 \\u0645\\u0646\\u0647\",\n          \"\\u0645\\u0646 \\u0623\\u0633\\u0648\\u0623 \\u0627\\u0644\\u0628\\u0631\\u0627\\u0645\\u062c \\u0627\\u0644\\u064a \\u0645\\u0645\\u0643\\u0646 \\u062a\\u0633\\u062a\\u062e\\u062f\\u0645\\u0647\\u0627 \\u062a\\u0642\\u0646\\u064a\\u0627\\u064b \\u0627\\u062a\\u0648\\u0642\\u0639 \\u0645\\u064a\\u0632\\u0627\\u0646\\u064a\\u062a\\u0647 \\u0639\\u0634\\u0631\\u0629 \\u0631\\u064a\\u0627\\u0644 \\u0634\\u0627\\u0645\\u0644\\u0629 \\u0627\\u0644\\u0636\\u0631\\u064a\\u0628\\u0629\"\n        ],\n        \"semantic_type\": \"\",\n        \"description\": \"\"\n      }\n    },\n    {\n      \"column\": \"rating\",\n      \"properties\": {\n        \"dtype\": \"number\",\n        \"std\": 0,\n        \"min\": -1,\n        \"max\": 1,\n        \"num_unique_values\": 3,\n        \"samples\": [\n          -1,\n          0,\n          1\n        ],\n        \"semantic_type\": \"\",\n        \"description\": \"\"\n      }\n    },\n    {\n      \"column\": \"company\",\n      \"properties\": {\n        \"dtype\": \"category\",\n        \"num_unique_values\": 1,\n        \"samples\": [\n          \"alahli_bank\"\n        ],\n        \"semantic_type\": \"\",\n        \"description\": \"\"\n      }\n    },\n    {\n      \"column\": \"label\",\n      \"properties\": {\n        \"dtype\": \"date\",\n        \"min\": -1,\n        \"max\": 1,\n        \"num_unique_values\": 2,\n        \"samples\": [\n          1\n        ],\n        \"semantic_type\": \"\",\n        \"description\": \"\"\n      }\n    }\n  ]\n}"
            }
          },
          "metadata": {},
          "execution_count": 58
        }
      ]
    },
    {
      "cell_type": "code",
      "source": [
        "print(df['label'] == df['rating'])"
      ],
      "metadata": {
        "id": "9C_312gWDpIT",
        "outputId": "105105b5-7bd6-4314-c8fd-997bda946ac8",
        "colab": {
          "base_uri": "https://localhost:8080/"
        }
      },
      "id": "9C_312gWDpIT",
      "execution_count": 59,
      "outputs": [
        {
          "output_type": "stream",
          "name": "stdout",
          "text": [
            "0      True\n",
            "1      True\n",
            "2      True\n",
            "3      True\n",
            "4      True\n",
            "5      True\n",
            "6      True\n",
            "7     False\n",
            "8      True\n",
            "9     False\n",
            "10     True\n",
            "11     True\n",
            "12     True\n",
            "13     True\n",
            "14     True\n",
            "15     True\n",
            "16     True\n",
            "17     True\n",
            "18     True\n",
            "19     True\n",
            "dtype: bool\n"
          ]
        }
      ]
    },
    {
      "cell_type": "code",
      "source": [
        "df.iloc[7, :]"
      ],
      "metadata": {
        "id": "jAb07XIpFvxF",
        "outputId": "1982c598-16b5-453a-eb98-820a7672f084",
        "colab": {
          "base_uri": "https://localhost:8080/",
          "height": 210
        }
      },
      "id": "jAb07XIpFvxF",
      "execution_count": 60,
      "outputs": [
        {
          "output_type": "execute_result",
          "data": {
            "text/plain": [
              "review_description    اذا قمت بفتح التطبيق يطلب تحديث واذا ضغطت على ...\n",
              "rating                                                                0\n",
              "company                                                     alahli_bank\n",
              "label                                                                -1\n",
              "Name: 7, dtype: object"
            ],
            "text/html": [
              "<div>\n",
              "<style scoped>\n",
              "    .dataframe tbody tr th:only-of-type {\n",
              "        vertical-align: middle;\n",
              "    }\n",
              "\n",
              "    .dataframe tbody tr th {\n",
              "        vertical-align: top;\n",
              "    }\n",
              "\n",
              "    .dataframe thead th {\n",
              "        text-align: right;\n",
              "    }\n",
              "</style>\n",
              "<table border=\"1\" class=\"dataframe\">\n",
              "  <thead>\n",
              "    <tr style=\"text-align: right;\">\n",
              "      <th></th>\n",
              "      <th>7</th>\n",
              "    </tr>\n",
              "  </thead>\n",
              "  <tbody>\n",
              "    <tr>\n",
              "      <th>review_description</th>\n",
              "      <td>اذا قمت بفتح التطبيق يطلب تحديث واذا ضغطت على ...</td>\n",
              "    </tr>\n",
              "    <tr>\n",
              "      <th>rating</th>\n",
              "      <td>0</td>\n",
              "    </tr>\n",
              "    <tr>\n",
              "      <th>company</th>\n",
              "      <td>alahli_bank</td>\n",
              "    </tr>\n",
              "    <tr>\n",
              "      <th>label</th>\n",
              "      <td>-1</td>\n",
              "    </tr>\n",
              "  </tbody>\n",
              "</table>\n",
              "</div><br><label><b>dtype:</b> object</label>"
            ]
          },
          "metadata": {},
          "execution_count": 60
        }
      ]
    },
    {
      "cell_type": "code",
      "source": [
        "df.iloc[7, 0]"
      ],
      "metadata": {
        "id": "Jl7qqYjfE9LN",
        "outputId": "5478a20c-e5f5-4861-b77b-ca2c4560c2e2",
        "colab": {
          "base_uri": "https://localhost:8080/",
          "height": 35
        }
      },
      "id": "Jl7qqYjfE9LN",
      "execution_count": 61,
      "outputs": [
        {
          "output_type": "execute_result",
          "data": {
            "text/plain": [
              "'اذا قمت بفتح التطبيق يطلب تحديث واذا ضغطت على التحديث ما يقبل التحديث لاهو اللي فتح ولاهو اللي تحدث وش المشكله'"
            ],
            "application/vnd.google.colaboratory.intrinsic+json": {
              "type": "string"
            }
          },
          "metadata": {},
          "execution_count": 61
        }
      ]
    },
    {
      "cell_type": "markdown",
      "source": [
        "For index 7, our model classify it as negative while in the dataset it was rated as neutral. And here from the context we can say that our model has the correct choice in this case."
      ],
      "metadata": {
        "id": "Oj5PVCNgFmIP"
      },
      "id": "Oj5PVCNgFmIP"
    },
    {
      "cell_type": "markdown",
      "source": [
        "## Final pipeline"
      ],
      "metadata": {
        "id": "CXqRIrsPA4qH"
      },
      "id": "CXqRIrsPA4qH"
    },
    {
      "cell_type": "code",
      "source": [
        "def get_scores(data):\n",
        "  scores = []\n",
        "  result = pipe(data)\n",
        "  for i in range(len(result)):\n",
        "    dic = dict(result[i])\n",
        "    s = dic['score']\n",
        "    if dic['label'] == 'negative':\n",
        "      s = 1 - s\n",
        "    elif dic['label'] == 'neutral':\n",
        "      s = 0.5\n",
        "    scores.append(s)\n",
        "  return scores"
      ],
      "metadata": {
        "id": "BnYZtICg8d-F"
      },
      "id": "BnYZtICg8d-F",
      "execution_count": 62,
      "outputs": []
    },
    {
      "cell_type": "code",
      "source": [
        "def star_rating(scores):\n",
        "\n",
        "  star_increment = len(scores) / 5\n",
        "  total_score = sum(scores)\n",
        "  star_rating = total_score / star_increment\n",
        "  star_rating = round(star_rating, 2)\n",
        "  return star_rating\n",
        "\n",
        "# Example usage:\n",
        "scores = get_scores(examples)\n",
        "rating = star_rating(scores)\n",
        "print(rating)"
      ],
      "metadata": {
        "id": "v6_LH7cg9vst"
      },
      "id": "v6_LH7cg9vst",
      "execution_count": 63,
      "outputs": []
    }
  ],
  "metadata": {
    "kernelspec": {
      "display_name": "Python 3",
      "language": "python",
      "name": "python3"
    },
    "language_info": {
      "codemirror_mode": {
        "name": "ipython",
        "version": 3
      },
      "file_extension": ".py",
      "mimetype": "text/x-python",
      "name": "python",
      "nbconvert_exporter": "python",
      "pygments_lexer": "ipython3",
      "version": "3.8.8"
    },
    "colab": {
      "provenance": []
    }
  },
  "nbformat": 4,
  "nbformat_minor": 5
}
