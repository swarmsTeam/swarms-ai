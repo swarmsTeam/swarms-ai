{
  "nbformat": 4,
  "nbformat_minor": 0,
  "metadata": {
    "colab": {
      "provenance": [],
      "authorship_tag": "ABX9TyPXjhy4DCD0ey9aaINOjKfV"
    },
    "kernelspec": {
      "name": "python3",
      "display_name": "Python 3"
    },
    "language_info": {
      "name": "python"
    }
  },
  "cells": [
    {
      "cell_type": "markdown",
      "source": [
        "# EVNTO Chatbot\n",
        "We are going to create a chatbot with LangChain and Google Generative AI (I chose this over HuggingFace Hub due to the ease of deployment). To build the chatbot, we first need to change the system message and make it all about what EVNTO app can do. Then, we will create a chain (with the use of RAG) to pass the events data to the model so that it can answer questions related to the type of events that we have."
      ],
      "metadata": {
        "id": "oTD1NtgSAPZn"
      }
    },
    {
      "cell_type": "markdown",
      "source": [
        "## Installation\n",
        "The LangChain Google AI integration lives in the `langchain-google-genai` package:"
      ],
      "metadata": {
        "id": "FG2Ar6HyBcE6"
      }
    },
    {
      "cell_type": "code",
      "source": [
        "%%capture\n",
        "!pip install langchain-google-genai\n",
        "!pip install langchain\n",
        "!pip install langchain-community\n",
        "!pip install jq\n",
        "!pip install faiss-cpu"
      ],
      "metadata": {
        "id": "8tbzO_Fgvk7l"
      },
      "execution_count": null,
      "outputs": []
    },
    {
      "cell_type": "markdown",
      "source": [
        "Head to https://ai.google.dev/gemini-api/docs/api-key to generate a Google AI API key. Once you've done this set the GOOGLE_API_KEY environment variable:"
      ],
      "metadata": {
        "id": "Xxfn6vw1BioO"
      }
    },
    {
      "cell_type": "code",
      "source": [
        "import getpass\n",
        "import os\n",
        "\n",
        "if \"GOOGLE_API_KEY\" not in os.environ:\n",
        "    os.environ[\"GOOGLE_API_KEY\"] = getpass.getpass(\"Enter your AI API key: \")"
      ],
      "metadata": {
        "colab": {
          "base_uri": "https://localhost:8080/"
        },
        "id": "ki5uNvlj_VH_",
        "outputId": "8c382317-12bc-446b-b891-7b8bc7d7a14f"
      },
      "execution_count": null,
      "outputs": [
        {
          "name": "stdout",
          "output_type": "stream",
          "text": [
            "Enter your Google AI API key: ··········\n"
          ]
        }
      ]
    },
    {
      "cell_type": "markdown",
      "source": [
        "## Instantiation\n",
        "Now we can instantiate our model object and generate chat completions:"
      ],
      "metadata": {
        "id": "NeR-2XFSBwbh"
      }
    },
    {
      "cell_type": "code",
      "source": [
        "from langchain_google_genai import ChatGoogleGenerativeAI\n",
        "\n",
        "model = ChatGoogleGenerativeAI(model=\"gemini-1.5-flash\")\n",
        "result = model.invoke(\"What is the outcome of 99 divided by 22?\")\n",
        "print(result.content)"
      ],
      "metadata": {
        "id": "lY-ywMLwve_N",
        "colab": {
          "base_uri": "https://localhost:8080/"
        },
        "outputId": "fd59d6e6-2c2b-4897-f905-a7e4c14d2418",
        "collapsed": true
      },
      "execution_count": null,
      "outputs": [
        {
          "output_type": "stream",
          "name": "stdout",
          "text": [
            "99 divided by 22 is **4.5**. \n",
            "\n"
          ]
        }
      ]
    },
    {
      "cell_type": "code",
      "source": [
        "%%writefile events_data.json\n",
        "[\n",
        "  {\n",
        "    \"event_name\": \"AI Workshop\",\n",
        "    \"date\": \"2024-09-30\",\n",
        "    \"location\": \"Mansoura University\",\n",
        "    \"description\": \"A workshop on AI and its applications.\"\n",
        "  },\n",
        "  {\n",
        "    \"event_name\": \"Data Science Seminar\",\n",
        "    \"date\": \"2024-10-10\",\n",
        "    \"location\": \"Cairo\",\n",
        "    \"description\": \"An event about the latest trends in data science.\"\n",
        "  }\n",
        "]"
      ],
      "metadata": {
        "colab": {
          "base_uri": "https://localhost:8080/"
        },
        "id": "Oy3XdenWk6ej",
        "outputId": "3182738b-d1d3-43e7-81ec-53ef55a40c77"
      },
      "execution_count": null,
      "outputs": [
        {
          "output_type": "stream",
          "name": "stdout",
          "text": [
            "Writing events_data.json\n"
          ]
        }
      ]
    },
    {
      "cell_type": "markdown",
      "source": [
        "## Create a Knowledge Base"
      ],
      "metadata": {
        "id": "00j6M9JEDlPS"
      }
    },
    {
      "cell_type": "markdown",
      "source": [
        "Using Langchain's document loaders and vector stores, we can create a knowledge base that the chatbot can query for relevant event data.\n",
        "* **Document Loader**: Load our events data into Langchain as documents."
      ],
      "metadata": {
        "id": "R7Hfx4MuDd4i"
      }
    },
    {
      "cell_type": "code",
      "source": [
        "from langchain.document_loaders import JSONLoader\n",
        "\n",
        "# Extract the data fields as dictionaries\n",
        "jq_schema = '.[] | {event_name, date, location, description}'\n",
        "\n",
        "loader = JSONLoader(file_path=\"events_data.json\", jq_schema=jq_schema, text_content=False)\n",
        "documents = loader.load()"
      ],
      "metadata": {
        "id": "psM9OhWHlDE8"
      },
      "execution_count": null,
      "outputs": []
    },
    {
      "cell_type": "markdown",
      "source": [
        "* **Vector Store**: to store and search through the event information. Langchain supports vector stores like FAISS or Pinecone to index the event descriptions. However, we will use FAISS."
      ],
      "metadata": {
        "id": "dlgvSaSGEFgo"
      }
    },
    {
      "cell_type": "code",
      "source": [
        "from langchain.vectorstores import FAISS\n",
        "from langchain_google_genai import GoogleGenerativeAIEmbeddings\n",
        "\n",
        "embeddings = GoogleGenerativeAIEmbeddings(model=\"models/embedding-001\")\n",
        "vector_store = FAISS.from_documents(documents, embeddings)"
      ],
      "metadata": {
        "id": "YpIKggQFlFwl"
      },
      "execution_count": null,
      "outputs": []
    },
    {
      "cell_type": "markdown",
      "source": [
        "## Integrate the Vector Store with our Chatbot\n",
        "After loading the events into a vector store, now it's time integrate it into our chatbot pipeline. The chatbot will query the vector store to retrieve relevant event information based on the user's input.\n",
        "\n",
        "* **Retrieval-based Chatbot**: where the chatbot can fetch data from our vector store."
      ],
      "metadata": {
        "id": "EsdS2Xu8EXmU"
      }
    },
    {
      "cell_type": "code",
      "source": [
        "from langchain.chains import RetrievalQA\n",
        "\n",
        "retriever = vector_store.as_retriever()\n",
        "qa_chain = RetrievalQA.from_chain_type(llm=model, retriever=retriever)"
      ],
      "metadata": {
        "id": "iOORFPjnlJHt"
      },
      "execution_count": null,
      "outputs": []
    },
    {
      "cell_type": "code",
      "source": [
        "query = \"Tell me about upcoming events at Mansoura University.\"\n",
        "result = qa_chain.invoke(query)\n",
        "print(result['result'])"
      ],
      "metadata": {
        "colab": {
          "base_uri": "https://localhost:8080/"
        },
        "id": "ABiuG8AYlLzI",
        "outputId": "23837d19-cc74-47bf-e255-a7692bd5c31a"
      },
      "execution_count": null,
      "outputs": [
        {
          "output_type": "stream",
          "name": "stdout",
          "text": [
            "There is one upcoming event at Mansoura University:\n",
            "\n",
            "* **Event Name:** AI Workshop\n",
            "* **Date:** 2024-09-30\n",
            "* **Location:** Mansoura University\n",
            "* **Description:** A workshop on AI and its applications. \n",
            "\n"
          ]
        }
      ]
    }
  ]
}
